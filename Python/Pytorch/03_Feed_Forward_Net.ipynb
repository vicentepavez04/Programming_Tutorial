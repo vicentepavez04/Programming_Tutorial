{
  "nbformat": 4,
  "nbformat_minor": 0,
  "metadata": {
    "colab": {
      "name": "Feed_Forward_Net.ipynb",
      "provenance": [],
      "collapsed_sections": []
    },
    "kernelspec": {
      "name": "python3",
      "display_name": "Python 3"
    },
    "language_info": {
      "name": "python"
    },
    "accelerator": "GPU"
  },
  "cells": [
    {
      "cell_type": "code",
      "execution_count": 1,
      "metadata": {
        "id": "C-kSTa5bcwzc"
      },
      "outputs": [],
      "source": [
        "import torch\n",
        "import torch.nn as nn\n",
        "import torchvision\n",
        "import torchvision.transforms as transforms\n",
        "import matplotlib.pyplot as plt\n",
        "\n"
      ]
    },
    {
      "cell_type": "code",
      "source": [
        "#device configuration\n",
        "device = torch.device('cuda' if torch.cuda.is_available() else 'cpu')"
      ],
      "metadata": {
        "id": "X-TdeZg-c0Y7"
      },
      "execution_count": 13,
      "outputs": []
    },
    {
      "cell_type": "code",
      "source": [
        "#Hyperparameters\n",
        "\n",
        "input_size = 784  # 28x28\n",
        "hidden_size = 110 \n",
        "num_classes = 10  # 0-9 digists\n",
        "num_epochs = 10\n",
        "batch_size = 100\n",
        "learning_rate = 0.001"
      ],
      "metadata": {
        "id": "KER-nVrNc0bz"
      },
      "execution_count": 19,
      "outputs": []
    },
    {
      "cell_type": "code",
      "source": [
        "#MNIST DATA\n",
        "\n",
        "train_dataset = torchvision.datasets.MNIST(root='./data', train=True,\n",
        "                                           transform=transforms.ToTensor(), download=True)\n",
        "test_dataset = torchvision.datasets.MNIST(root='./data', train=False,\n",
        "                                           transform=transforms.ToTensor())"
      ],
      "metadata": {
        "id": "G7VkdUbdc0eZ"
      },
      "execution_count": 5,
      "outputs": []
    },
    {
      "cell_type": "code",
      "source": [
        "# Load dataset\n",
        "train_loader = torch.utils.data.DataLoader(dataset= train_dataset, batch_size=batch_size, shuffle=True)\n",
        "test_loader = torch.utils.data.DataLoader(dataset=test_dataset, batch_size=batch_size, shuffle=False)\n",
        "\n",
        "examples = iter(train_loader)\n",
        "samples, labels = examples.next()\n",
        "print(samples.shape, labels.shape)\n",
        "\n",
        "#[samples(batch), channel(1 grayscale image), image_size] ([n°labels])\n"
      ],
      "metadata": {
        "colab": {
          "base_uri": "https://localhost:8080/"
        },
        "id": "o_UL3BRZu9K7",
        "outputId": "18a15649-ff21-4c94-e480-5300f0a54e0a"
      },
      "execution_count": 6,
      "outputs": [
        {
          "output_type": "stream",
          "name": "stdout",
          "text": [
            "torch.Size([100, 1, 28, 28]) torch.Size([100])\n"
          ]
        }
      ]
    },
    {
      "cell_type": "code",
      "source": [
        "#data visualization\n",
        "\n",
        "for i in range(6):\n",
        "  plt.subplot(2,3, i+1)\n",
        "  plt.imshow(samples[i][0], cmap='gray')\n",
        "plt.show()"
      ],
      "metadata": {
        "colab": {
          "base_uri": "https://localhost:8080/",
          "height": 267
        },
        "id": "DWDbxynavvv0",
        "outputId": "94a14623-7fae-4b73-ee46-c6a50c17c178"
      },
      "execution_count": 7,
      "outputs": [
        {
          "output_type": "display_data",
          "data": {
            "image/png": "[encoded data removed]",
            "text/plain": [
              "<Figure size 432x288 with 6 Axes>"
            ]
          },
          "metadata": {
            "needs_background": "light"
          }
        }
      ]
    },
    {
      "cell_type": "code",
      "source": [
        "# Neural Network\n",
        "\n",
        "class NeuralNet(nn.Module):\n",
        "  def __init__(self, input_size, hidden_size, num_classes):\n",
        "    super(NeuralNet, self).__init__()\n",
        "    self.l1 = nn.Linear(input_size, hidden_size)\n",
        "    self.relu = nn.ReLU()\n",
        "    self.l2 = nn.Linear(hidden_size, num_classes)\n",
        "\n",
        "  def forward(self, x):\n",
        "    out = self.l1(x)\n",
        "    out = self.relu(out)\n",
        "    out = self.l2(out)\n",
        "    # Multiclassification problem dont need activacion function at the end,\n",
        "    # because we use CrossEntropy loss, the loss applies the softmax function automatically.\n",
        "    return out\n",
        "\n",
        "model = NeuralNet(input_size, hidden_size, num_classes).to(device)"
      ],
      "metadata": {
        "id": "_24hIvj7wkVB"
      },
      "execution_count": 20,
      "outputs": []
    },
    {
      "cell_type": "code",
      "source": [
        "#Loss and optimizer\n",
        "\n",
        "criterion = nn.CrossEntropyLoss()\n",
        "optimizer = torch.optim.Adam(model.parameters(), lr=learning_rate)\n"
      ],
      "metadata": {
        "id": "jVbLDZwQwxBS"
      },
      "execution_count": 21,
      "outputs": []
    },
    {
      "cell_type": "code",
      "source": [
        "#Training Loop\n",
        "n_total_steps = len(train_loader)\n",
        "\n",
        "for epoch in range(num_epochs):\n",
        "  for i, (images, labels) in enumerate(train_loader):\n",
        "    # 100, 1 , 28, 28\n",
        "    # 100, 784\n",
        "    #reshape tensor\n",
        "    images = images.reshape(-1, 28*28).to(device)\n",
        "    labels = labels.to(device)\n",
        "\n",
        "    # Forward\n",
        "    outputs = model(images)\n",
        "    loss = criterion(outputs, labels)\n",
        "\n",
        "    #backward\n",
        "    optimizer.zero_grad()\n",
        "    loss.backward()\n",
        "    optimizer.step()\n",
        "\n",
        "    if (i+1) % 100 == 0:\n",
        "      print(f'epoch {epoch+1}/{num_epochs}, step {i+1}/{n_total_steps}, loss= {loss.item():.4f}')\n",
        "  "
      ],
      "metadata": {
        "colab": {
          "base_uri": "https://localhost:8080/"
        },
        "id": "EfcPRKRUwxDi",
        "outputId": "be24a31b-2661-401d-abf8-e36d08018cca"
      },
      "execution_count": 22,
      "outputs": [
        {
          "output_type": "stream",
          "name": "stdout",
          "text": [
            "epoch 1/10, step 100/600, loss= 0.4591\n",
            "epoch 1/10, step 200/600, loss= 0.3148\n",
            "epoch 1/10, step 300/600, loss= 0.3902\n",
            "epoch 1/10, step 400/600, loss= 0.3187\n",
            "epoch 1/10, step 500/600, loss= 0.3034\n",
            "epoch 1/10, step 600/600, loss= 0.3375\n",
            "epoch 2/10, step 100/600, loss= 0.0836\n",
            "epoch 2/10, step 200/600, loss= 0.2105\n",
            "epoch 2/10, step 300/600, loss= 0.1470\n",
            "epoch 2/10, step 400/600, loss= 0.1022\n",
            "epoch 2/10, step 500/600, loss= 0.1129\n",
            "epoch 2/10, step 600/600, loss= 0.1156\n",
            "epoch 3/10, step 100/600, loss= 0.1457\n",
            "epoch 3/10, step 200/600, loss= 0.1183\n",
            "epoch 3/10, step 300/600, loss= 0.2356\n",
            "epoch 3/10, step 400/600, loss= 0.2030\n",
            "epoch 3/10, step 500/600, loss= 0.0693\n",
            "epoch 3/10, step 600/600, loss= 0.0938\n",
            "epoch 4/10, step 100/600, loss= 0.0857\n",
            "epoch 4/10, step 200/600, loss= 0.0807\n",
            "epoch 4/10, step 300/600, loss= 0.1177\n",
            "epoch 4/10, step 400/600, loss= 0.0627\n",
            "epoch 4/10, step 500/600, loss= 0.1904\n",
            "epoch 4/10, step 600/600, loss= 0.0519\n",
            "epoch 5/10, step 100/600, loss= 0.0699\n",
            "epoch 5/10, step 200/600, loss= 0.1159\n",
            "epoch 5/10, step 300/600, loss= 0.0992\n",
            "epoch 5/10, step 400/600, loss= 0.0837\n",
            "epoch 5/10, step 500/600, loss= 0.0550\n",
            "epoch 5/10, step 600/600, loss= 0.0539\n",
            "epoch 6/10, step 100/600, loss= 0.1106\n",
            "epoch 6/10, step 200/600, loss= 0.0892\n",
            "epoch 6/10, step 300/600, loss= 0.0628\n",
            "epoch 6/10, step 400/600, loss= 0.0255\n",
            "epoch 6/10, step 500/600, loss= 0.0496\n",
            "epoch 6/10, step 600/600, loss= 0.0887\n",
            "epoch 7/10, step 100/600, loss= 0.0257\n",
            "epoch 7/10, step 200/600, loss= 0.0402\n",
            "epoch 7/10, step 300/600, loss= 0.0945\n",
            "epoch 7/10, step 400/600, loss= 0.0693\n",
            "epoch 7/10, step 500/600, loss= 0.0572\n",
            "epoch 7/10, step 600/600, loss= 0.0755\n",
            "epoch 8/10, step 100/600, loss= 0.0224\n",
            "epoch 8/10, step 200/600, loss= 0.0940\n",
            "epoch 8/10, step 300/600, loss= 0.0381\n",
            "epoch 8/10, step 400/600, loss= 0.0433\n",
            "epoch 8/10, step 500/600, loss= 0.0194\n",
            "epoch 8/10, step 600/600, loss= 0.0294\n",
            "epoch 9/10, step 100/600, loss= 0.0228\n",
            "epoch 9/10, step 200/600, loss= 0.0270\n",
            "epoch 9/10, step 300/600, loss= 0.0907\n",
            "epoch 9/10, step 400/600, loss= 0.0269\n",
            "epoch 9/10, step 500/600, loss= 0.0365\n",
            "epoch 9/10, step 600/600, loss= 0.0496\n",
            "epoch 10/10, step 100/600, loss= 0.0212\n",
            "epoch 10/10, step 200/600, loss= 0.0627\n",
            "epoch 10/10, step 300/600, loss= 0.0638\n",
            "epoch 10/10, step 400/600, loss= 0.0232\n",
            "epoch 10/10, step 500/600, loss= 0.0229\n",
            "epoch 10/10, step 600/600, loss= 0.0317\n"
          ]
        }
      ]
    },
    {
      "cell_type": "code",
      "source": [
        "# Test\n",
        "\n",
        "with torch.no_grad():\n",
        "  n_correct = 0\n",
        "  n_samples = 0\n",
        "  for images, labels in test_loader:\n",
        "    images = images.reshape(-1,28*28).to(device)\n",
        "    labels = labels.to(device)\n",
        "    outputs = model(images)\n",
        "\n",
        "    # return the value and index (index = predictions)\n",
        "    _, predictions = torch.max(outputs, 1)\n",
        "    n_samples += labels.shape[0]\n",
        "    n_correct += (predictions == labels).sum().item()\n",
        "\n",
        "  accuracy = 100.0 * n_correct / n_samples\n",
        "  print(f'accuracy = {accuracy}')"
      ],
      "metadata": {
        "colab": {
          "base_uri": "https://localhost:8080/"
        },
        "id": "mnthpzS-wxGQ",
        "outputId": "1f564d66-b0c2-4585-cf1a-89e9f90a9051"
      },
      "execution_count": 24,
      "outputs": [
        {
          "output_type": "stream",
          "name": "stdout",
          "text": [
            "accuracy = 97.68\n"
          ]
        }
      ]
    }
  ]
}
