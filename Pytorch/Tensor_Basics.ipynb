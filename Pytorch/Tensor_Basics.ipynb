{
  "nbformat": 4,
  "nbformat_minor": 0,
  "metadata": {
    "colab": {
      "name": "Tensor_Basics.ipynb",
      "provenance": [],
      "collapsed_sections": []
    },
    "kernelspec": {
      "name": "python3",
      "display_name": "Python 3"
    },
    "language_info": {
      "name": "python"
    }
  },
  "cells": [
    {
      "cell_type": "markdown",
      "source": [
        "# Tensor Basics\n",
        "\n"
      ],
      "metadata": {
        "id": "WZbjuDpMQ0L5"
      }
    },
    {
      "cell_type": "code",
      "source": [
        "import torch"
      ],
      "metadata": {
        "id": "26HN4zRLIxIP"
      },
      "execution_count": null,
      "outputs": []
    },
    {
      "cell_type": "markdown",
      "source": [
        "**Tensor structure**\n",
        "\n",
        "\n",
        "xxxx = method \\\n",
        "zzzz = datatype specification \\\n",
        "torch.xxxx(size, dtype = zzzz)\n"
      ],
      "metadata": {
        "id": "xPQYg3SeI97G"
      }
    },
    {
      "cell_type": "code",
      "execution_count": null,
      "metadata": {
        "id": "ehBeVn3KX34O",
        "colab": {
          "base_uri": "https://localhost:8080/"
        },
        "outputId": "076778e0-cb72-4bf6-814e-2f91c34275c7"
      },
      "outputs": [
        {
          "output_type": "stream",
          "name": "stdout",
          "text": [
            "tensor([[-1.6603e-08,  3.0771e-41],\n",
            "        [ 3.3631e-44,  0.0000e+00],\n",
            "        [        nan,  1.8933e+00]])\n",
            "tensor([[0.3013],\n",
            "        [0.6987]])\n",
            "tensor([[0., 0., 0., 0.]])\n",
            "tensor([[1., 1.]], dtype=torch.float16)\n"
          ]
        }
      ],
      "source": [
        "#Empty Tensor \n",
        "\n",
        "x = torch.empty(3,2)\n",
        "print(x)\n",
        "\n",
        "# Random tensor\n",
        "x = torch.rand(2,1)\n",
        "print(x)\n",
        "\n",
        "# Zeros tensor\n",
        "x= torch.zeros(1,4)\n",
        "print(x)\n",
        "\n",
        "# Ones tensor\n",
        "x = torch.ones(1,2, dtype=torch.float16)\n",
        "print(x)"
      ]
    },
    {
      "cell_type": "code",
      "source": [
        "# tensor from a list\n",
        "\n",
        "x = torch.tensor([2.1, 3, 4])\n",
        "print(x)"
      ],
      "metadata": {
        "colab": {
          "base_uri": "https://localhost:8080/"
        },
        "id": "dXtyVrt3JyDv",
        "outputId": "4452bd8f-690b-4ce2-c0c3-2eab716e2116"
      },
      "execution_count": null,
      "outputs": [
        {
          "output_type": "stream",
          "name": "stdout",
          "text": [
            "tensor([2.1000, 3.0000, 4.0000])\n"
          ]
        }
      ]
    },
    {
      "cell_type": "code",
      "source": [
        "#Tensor Operations\n",
        "\n",
        "x = torch.rand(2,2)\n",
        "y = torch.rand(2,2)\n",
        "print(\"x:   \",x)\n",
        "print(\"y:   \",y)\n",
        "\n",
        "z = x + y \n",
        "#or\n",
        "z = torch.add(x,y)\n",
        "print(\"Sum:   \",z)\n",
        "\n",
        "\n",
        "# z = y-x\n",
        "z = y - x\n",
        "z = torch.sub(x,y)\n",
        "\n",
        "print(\"Substraction:    \",z)\n",
        "\n",
        "\n",
        "# z = y*x\n",
        "z = y * x\n",
        "z = torch.mul(x,y)\n",
        "\n",
        "print(\"Multiplication:    \",z)\n",
        "\n",
        "\n",
        "# y = y/x\n",
        "z = x / y\n",
        "z = torch.div(x,y)\n",
        "\n",
        "print(\"Division:    \",z)\n",
        "\n"
      ],
      "metadata": {
        "id": "2Pvqf8rWX7m3",
        "colab": {
          "base_uri": "https://localhost:8080/"
        },
        "outputId": "ac7a4f15-4218-41b6-ae88-b97690b85665"
      },
      "execution_count": null,
      "outputs": [
        {
          "output_type": "stream",
          "name": "stdout",
          "text": [
            "x:    tensor([[0.3144, 0.6775],\n",
            "        [0.5592, 0.8624]])\n",
            "y:    tensor([[0.1296, 0.2820],\n",
            "        [0.5383, 0.0517]])\n",
            "Sum:    tensor([[0.4440, 0.9596],\n",
            "        [1.0975, 0.9141]])\n",
            "Substraction:     tensor([[0.1848, 0.3955],\n",
            "        [0.0208, 0.8107]])\n",
            "Multiplication:     tensor([[0.0407, 0.1911],\n",
            "        [0.3010, 0.0446]])\n",
            "Division:     tensor([[ 2.4263,  2.4023],\n",
            "        [ 1.0387, 16.6757]])\n"
          ]
        }
      ]
    },
    {
      "cell_type": "markdown",
      "source": [
        "if the metod have a \"_\", its in place operation"
      ],
      "metadata": {
        "id": "8Ha1vshWKcl4"
      }
    },
    {
      "cell_type": "code",
      "source": [
        "#Tensor Operations in place (\"_\")\n",
        "\n",
        "x = torch.rand(2,2)\n",
        "y = torch.rand(2,2)\n",
        "print(x)\n",
        "print(y)\n",
        "\n",
        "# y = y+x\n",
        "y.add_(x)\n",
        "\n",
        "print(y)\n",
        "\n",
        "# y = y-x\n",
        "y.sub_(x)\n",
        "\n",
        "print(y)\n",
        "\n",
        "# y = y*x\n",
        "y.mul_(x)\n",
        "\n",
        "print(y)\n",
        "\n",
        "# y = y/x\n",
        "y.div_(x)\n",
        "\n",
        "print(y)\n"
      ],
      "metadata": {
        "id": "o2XzCquwX7pe",
        "colab": {
          "base_uri": "https://localhost:8080/"
        },
        "outputId": "76662fc5-4145-469d-cc5b-8dda1fc53264"
      },
      "execution_count": null,
      "outputs": [
        {
          "output_type": "stream",
          "name": "stdout",
          "text": [
            "tensor([[0.1773, 0.2761],\n",
            "        [0.0844, 0.9214]])\n",
            "tensor([[0.6470, 0.9542],\n",
            "        [0.7338, 0.9797]])\n",
            "tensor([[0.8243, 1.2303],\n",
            "        [0.8182, 1.9011]])\n",
            "tensor([[0.6470, 0.9542],\n",
            "        [0.7338, 0.9797]])\n",
            "tensor([[0.1147, 0.2634],\n",
            "        [0.0620, 0.9027]])\n",
            "tensor([[0.6470, 0.9542],\n",
            "        [0.7338, 0.9797]])\n"
          ]
        }
      ]
    },
    {
      "cell_type": "code",
      "source": [
        "#Tensor manipulation\n",
        "\n",
        "x = torch.rand(4,3)\n",
        "print(x)\n",
        "\n",
        "print(\"first colum and all rows\", x[:,1])\n",
        "\n",
        "print(\"first row and all colums\", x[1,:])\n",
        "\n",
        "print(\"Actual value of one element\", x[2,2].item())\n",
        "\n"
      ],
      "metadata": {
        "colab": {
          "base_uri": "https://localhost:8080/"
        },
        "id": "ow-choIvKyc6",
        "outputId": "5e6197e0-f143-4a53-e517-c140b9fc9b8f"
      },
      "execution_count": null,
      "outputs": [
        {
          "output_type": "stream",
          "name": "stdout",
          "text": [
            "tensor([[0.0139, 0.7671, 0.2913],\n",
            "        [0.0322, 0.2972, 0.3717],\n",
            "        [0.2371, 0.1559, 0.0857],\n",
            "        [0.3789, 0.2598, 0.5598]])\n",
            "first colum and all rows tensor([0.7671, 0.2972, 0.1559, 0.2598])\n",
            "first row and all colums tensor([0.0322, 0.2972, 0.3717])\n",
            "Actual valuo of one element 0.0856660008430481\n"
          ]
        }
      ]
    },
    {
      "cell_type": "code",
      "source": [
        "# Reshaping\n",
        "\n",
        "x = torch.rand(4,4)\n",
        "print(x)\n",
        "\n",
        "# Transform to one dimension\n",
        "y = x.view(4*4)\n",
        "print(y)\n",
        "\n",
        "# Transfor to a specific Dimension\n",
        "\n",
        "y = x.view(-1,8) # -1 is for the automatic ajusting to dimesion 8\n",
        "print(y)\n",
        "print(y.size())\n",
        "\n"
      ],
      "metadata": {
        "colab": {
          "base_uri": "https://localhost:8080/"
        },
        "id": "J4rII1G0M1u0",
        "outputId": "61b44a79-2df9-4063-9fca-5ba9ed7d2c2c"
      },
      "execution_count": null,
      "outputs": [
        {
          "output_type": "stream",
          "name": "stdout",
          "text": [
            "tensor([[0.9894, 0.4777, 0.9924, 0.2222],\n",
            "        [0.6748, 0.2655, 0.2133, 0.9470],\n",
            "        [0.0293, 0.4964, 0.3758, 0.0894],\n",
            "        [0.8140, 0.2623, 0.8837, 0.8998]])\n",
            "tensor([0.9894, 0.4777, 0.9924, 0.2222, 0.6748, 0.2655, 0.2133, 0.9470, 0.0293,\n",
            "        0.4964, 0.3758, 0.0894, 0.8140, 0.2623, 0.8837, 0.8998])\n",
            "tensor([[0.9894, 0.4777, 0.9924, 0.2222, 0.6748, 0.2655, 0.2133, 0.9470],\n",
            "        [0.0293, 0.4964, 0.3758, 0.0894, 0.8140, 0.2623, 0.8837, 0.8998]])\n",
            "torch.Size([2, 8])\n"
          ]
        }
      ]
    },
    {
      "cell_type": "code",
      "source": [
        "# Convertion tensor to numpy\n",
        "\n",
        "import numpy as np\n",
        "\n",
        "x = torch.rand(1,3)\n",
        "print(x)\n",
        "\n",
        "y = x.numpy()\n",
        "print(y)\n",
        "print(\"Tensor:        \",x)\n",
        "print(\"Numpy array:   \",y)\n",
        "\n",
        "\n",
        "# Both are point to the same memory location\n",
        "print(\"IMPORTANT, Both are point to the same memory location:\")\n",
        "x.add_(1)\n",
        "print(\"Tensor:        \",x)\n",
        "print(\"Numpy array:   \",y)\n",
        "\n",
        "\n",
        "\n",
        "# Convertion numpy to tensor\n",
        "\n",
        "x = np.ones(5)\n",
        "y = torch.from_numpy(x)\n",
        "print(\"Numpy array:   \",x)\n",
        "print(\"Tensor:        \",y)\n",
        "\n",
        "\n",
        "# Both are point to the same memory location\n",
        "\n",
        "print(\"IMPORTANT, Both are point to the same memory location:\")\n",
        "x -= 1\n",
        "print(\"Numpy array:   \",x)\n",
        "print(\"Tensor:        \",y)\n",
        "\n",
        "\n",
        "\n",
        "\n",
        "\"\"\"\n",
        "Both are point to the same memory location, only if tensor is in CPU\n",
        "\"\"\"\n",
        "# Specifing a device\n",
        "\n",
        "x = torch.zeros(2, device = \"cpu\")\n",
        "\n",
        "#x = x.to(\"cuda\") # Moving tensor to other device\n",
        "\n"
      ],
      "metadata": {
        "colab": {
          "base_uri": "https://localhost:8080/"
        },
        "id": "upjh25dQNqay",
        "outputId": "823bf270-3593-477a-e954-97c0e33c2562"
      },
      "execution_count": null,
      "outputs": [
        {
          "output_type": "stream",
          "name": "stdout",
          "text": [
            "tensor([[0.8428, 0.9322, 0.4947]])\n",
            "[[0.84275556 0.9321718  0.49467254]]\n",
            "Tensor:         tensor([[0.8428, 0.9322, 0.4947]])\n",
            "Numpy array:    [[0.84275556 0.9321718  0.49467254]]\n",
            "IMPORTANT, Both are point to the same memory location:\n",
            "Tensor:         tensor([[1.8428, 1.9322, 1.4947]])\n",
            "Numpy array:    [[1.8427556 1.9321718 1.4946725]]\n",
            "Numpy array:    [1. 1. 1. 1. 1.]\n",
            "Tensor:         tensor([1., 1., 1., 1., 1.], dtype=torch.float64)\n",
            "IMPORTANT, Both are point to the same memory location:\n",
            "Numpy array:    [0. 0. 0. 0. 0.]\n",
            "Tensor:         tensor([0., 0., 0., 0., 0.], dtype=torch.float64)\n"
          ]
        }
      ]
    },
    {
      "cell_type": "code",
      "source": [
        ""
      ],
      "metadata": {
        "id": "fEc2i68UOHxB"
      },
      "execution_count": null,
      "outputs": []
    }
  ]
}